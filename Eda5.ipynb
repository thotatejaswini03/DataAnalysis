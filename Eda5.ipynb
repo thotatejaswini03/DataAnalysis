{
 "cells": [
  {
   "cell_type": "markdown",
   "id": "34907a0c",
   "metadata": {},
   "source": [
    "Netflix Titles EDA Notebook Structure\n",
    "1️⃣ Import Libraries & Load Dataset"
   ]
  },
  {
   "cell_type": "code",
   "execution_count": 6,
   "id": "178b9a0e",
   "metadata": {},
   "outputs": [
    {
     "data": {
      "text/html": [
       "<div>\n",
       "<style scoped>\n",
       "    .dataframe tbody tr th:only-of-type {\n",
       "        vertical-align: middle;\n",
       "    }\n",
       "\n",
       "    .dataframe tbody tr th {\n",
       "        vertical-align: top;\n",
       "    }\n",
       "\n",
       "    .dataframe thead th {\n",
       "        text-align: right;\n",
       "    }\n",
       "</style>\n",
       "<table border=\"1\" class=\"dataframe\">\n",
       "  <thead>\n",
       "    <tr style=\"text-align: right;\">\n",
       "      <th></th>\n",
       "      <th>show_id</th>\n",
       "      <th>type</th>\n",
       "      <th>title</th>\n",
       "      <th>director</th>\n",
       "      <th>cast</th>\n",
       "      <th>country</th>\n",
       "      <th>date_added</th>\n",
       "      <th>release_year</th>\n",
       "      <th>rating</th>\n",
       "      <th>duration</th>\n",
       "      <th>listed_in</th>\n",
       "      <th>description</th>\n",
       "    </tr>\n",
       "  </thead>\n",
       "  <tbody>\n",
       "    <tr>\n",
       "      <th>0</th>\n",
       "      <td>s1</td>\n",
       "      <td>Movie</td>\n",
       "      <td>Dick Johnson Is Dead</td>\n",
       "      <td>Kirsten Johnson</td>\n",
       "      <td>NaN</td>\n",
       "      <td>United States</td>\n",
       "      <td>September 25, 2021</td>\n",
       "      <td>2020</td>\n",
       "      <td>PG-13</td>\n",
       "      <td>90 min</td>\n",
       "      <td>Documentaries</td>\n",
       "      <td>As her father nears the end of his life, filmm...</td>\n",
       "    </tr>\n",
       "    <tr>\n",
       "      <th>1</th>\n",
       "      <td>s2</td>\n",
       "      <td>TV Show</td>\n",
       "      <td>Blood &amp; Water</td>\n",
       "      <td>NaN</td>\n",
       "      <td>Ama Qamata, Khosi Ngema, Gail Mabalane, Thaban...</td>\n",
       "      <td>South Africa</td>\n",
       "      <td>September 24, 2021</td>\n",
       "      <td>2021</td>\n",
       "      <td>TV-MA</td>\n",
       "      <td>2 Seasons</td>\n",
       "      <td>International TV Shows, TV Dramas, TV Mysteries</td>\n",
       "      <td>After crossing paths at a party, a Cape Town t...</td>\n",
       "    </tr>\n",
       "    <tr>\n",
       "      <th>2</th>\n",
       "      <td>s3</td>\n",
       "      <td>TV Show</td>\n",
       "      <td>Ganglands</td>\n",
       "      <td>Julien Leclercq</td>\n",
       "      <td>Sami Bouajila, Tracy Gotoas, Samuel Jouy, Nabi...</td>\n",
       "      <td>NaN</td>\n",
       "      <td>September 24, 2021</td>\n",
       "      <td>2021</td>\n",
       "      <td>TV-MA</td>\n",
       "      <td>1 Season</td>\n",
       "      <td>Crime TV Shows, International TV Shows, TV Act...</td>\n",
       "      <td>To protect his family from a powerful drug lor...</td>\n",
       "    </tr>\n",
       "    <tr>\n",
       "      <th>3</th>\n",
       "      <td>s4</td>\n",
       "      <td>TV Show</td>\n",
       "      <td>Jailbirds New Orleans</td>\n",
       "      <td>NaN</td>\n",
       "      <td>NaN</td>\n",
       "      <td>NaN</td>\n",
       "      <td>September 24, 2021</td>\n",
       "      <td>2021</td>\n",
       "      <td>TV-MA</td>\n",
       "      <td>1 Season</td>\n",
       "      <td>Docuseries, Reality TV</td>\n",
       "      <td>Feuds, flirtations and toilet talk go down amo...</td>\n",
       "    </tr>\n",
       "    <tr>\n",
       "      <th>4</th>\n",
       "      <td>s5</td>\n",
       "      <td>TV Show</td>\n",
       "      <td>Kota Factory</td>\n",
       "      <td>NaN</td>\n",
       "      <td>Mayur More, Jitendra Kumar, Ranjan Raj, Alam K...</td>\n",
       "      <td>India</td>\n",
       "      <td>September 24, 2021</td>\n",
       "      <td>2021</td>\n",
       "      <td>TV-MA</td>\n",
       "      <td>2 Seasons</td>\n",
       "      <td>International TV Shows, Romantic TV Shows, TV ...</td>\n",
       "      <td>In a city of coaching centers known to train I...</td>\n",
       "    </tr>\n",
       "  </tbody>\n",
       "</table>\n",
       "</div>"
      ],
      "text/plain": [
       "  show_id     type                  title         director  \\\n",
       "0      s1    Movie   Dick Johnson Is Dead  Kirsten Johnson   \n",
       "1      s2  TV Show          Blood & Water              NaN   \n",
       "2      s3  TV Show              Ganglands  Julien Leclercq   \n",
       "3      s4  TV Show  Jailbirds New Orleans              NaN   \n",
       "4      s5  TV Show           Kota Factory              NaN   \n",
       "\n",
       "                                                cast        country  \\\n",
       "0                                                NaN  United States   \n",
       "1  Ama Qamata, Khosi Ngema, Gail Mabalane, Thaban...   South Africa   \n",
       "2  Sami Bouajila, Tracy Gotoas, Samuel Jouy, Nabi...            NaN   \n",
       "3                                                NaN            NaN   \n",
       "4  Mayur More, Jitendra Kumar, Ranjan Raj, Alam K...          India   \n",
       "\n",
       "           date_added  release_year rating   duration  \\\n",
       "0  September 25, 2021          2020  PG-13     90 min   \n",
       "1  September 24, 2021          2021  TV-MA  2 Seasons   \n",
       "2  September 24, 2021          2021  TV-MA   1 Season   \n",
       "3  September 24, 2021          2021  TV-MA   1 Season   \n",
       "4  September 24, 2021          2021  TV-MA  2 Seasons   \n",
       "\n",
       "                                           listed_in  \\\n",
       "0                                      Documentaries   \n",
       "1    International TV Shows, TV Dramas, TV Mysteries   \n",
       "2  Crime TV Shows, International TV Shows, TV Act...   \n",
       "3                             Docuseries, Reality TV   \n",
       "4  International TV Shows, Romantic TV Shows, TV ...   \n",
       "\n",
       "                                         description  \n",
       "0  As her father nears the end of his life, filmm...  \n",
       "1  After crossing paths at a party, a Cape Town t...  \n",
       "2  To protect his family from a powerful drug lor...  \n",
       "3  Feuds, flirtations and toilet talk go down amo...  \n",
       "4  In a city of coaching centers known to train I...  "
      ]
     },
     "execution_count": 6,
     "metadata": {},
     "output_type": "execute_result"
    }
   ],
   "source": [
    "import pandas as pd\n",
    "import matplotlib.pyplot as plt\n",
    "import seaborn as sns\n",
    "import numpy as np\n",
    "df = pd.read_csv(\"Netflix_Titles.csv\")\n",
    "df.head()\n"
   ]
  },
  {
   "cell_type": "markdown",
   "id": "8eecc91c",
   "metadata": {},
   "source": [
    "2️⃣ Dataset Info & Basic Checks"
   ]
  },
  {
   "cell_type": "code",
   "execution_count": 7,
   "id": "400e5007",
   "metadata": {},
   "outputs": [
    {
     "name": "stdout",
     "output_type": "stream",
     "text": [
      "<class 'pandas.core.frame.DataFrame'>\n",
      "RangeIndex: 8807 entries, 0 to 8806\n",
      "Data columns (total 12 columns):\n",
      " #   Column        Non-Null Count  Dtype \n",
      "---  ------        --------------  ----- \n",
      " 0   show_id       8807 non-null   object\n",
      " 1   type          8807 non-null   object\n",
      " 2   title         8807 non-null   object\n",
      " 3   director      6173 non-null   object\n",
      " 4   cast          7982 non-null   object\n",
      " 5   country       7976 non-null   object\n",
      " 6   date_added    8797 non-null   object\n",
      " 7   release_year  8807 non-null   int64 \n",
      " 8   rating        8803 non-null   object\n",
      " 9   duration      8804 non-null   object\n",
      " 10  listed_in     8807 non-null   object\n",
      " 11  description   8807 non-null   object\n",
      "dtypes: int64(1), object(11)\n",
      "memory usage: 825.8+ KB\n"
     ]
    },
    {
     "data": {
      "text/plain": [
       "Index(['show_id', 'type', 'title', 'director', 'cast', 'country', 'date_added',\n",
       "       'release_year', 'rating', 'duration', 'listed_in', 'description'],\n",
       "      dtype='object')"
      ]
     },
     "execution_count": 7,
     "metadata": {},
     "output_type": "execute_result"
    }
   ],
   "source": [
    "\n",
    "df.info()\n",
    "df.describe(include='all')\n",
    "df.shape\n",
    "df.columns\n"
   ]
  },
  {
   "cell_type": "markdown",
   "id": "86ad3687",
   "metadata": {},
   "source": [
    "3️⃣ Missing Values & Duplicates"
   ]
  },
  {
   "cell_type": "code",
   "execution_count": 8,
   "id": "0f59ceb0",
   "metadata": {},
   "outputs": [
    {
     "data": {
      "text/plain": [
       "np.int64(0)"
      ]
     },
     "execution_count": 8,
     "metadata": {},
     "output_type": "execute_result"
    }
   ],
   "source": [
    "df.isnull().sum()\n",
    "df.duplicated().sum()\n"
   ]
  },
  {
   "cell_type": "markdown",
   "id": "b8228d1f",
   "metadata": {},
   "source": [
    "4️⃣ Data Cleaning"
   ]
  },
  {
   "cell_type": "code",
   "execution_count": 8,
   "id": "ce0339bc",
   "metadata": {},
   "outputs": [],
   "source": [
    "# Drop duplicates\n",
    "df = df.drop_duplicates()\n",
    "\n"
   ]
  },
  {
   "cell_type": "markdown",
   "id": "cf79370d",
   "metadata": {},
   "source": [
    "7️⃣ Univariate Analysis - Numerical Columns"
   ]
  },
  {
   "cell_type": "code",
   "execution_count": 10,
   "id": "1f7739df",
   "metadata": {},
   "outputs": [
    {
     "name": "stderr",
     "output_type": "stream",
     "text": [
      "findfont: Font family 'Arial Unicode MS' not found.\n",
      "findfont: Font family 'Arial Unicode MS' not found.\n",
      "findfont: Font family 'Arial Unicode MS' not found.\n",
      "findfont: Font family 'Arial Unicode MS' not found.\n",
      "findfont: Font family 'Arial Unicode MS' not found.\n",
      "findfont: Font family 'Arial Unicode MS' not found.\n",
      "findfont: Font family 'Arial Unicode MS' not found.\n",
      "findfont: Font family 'Arial Unicode MS' not found.\n",
      "findfont: Font family 'Arial Unicode MS' not found.\n",
      "findfont: Font family 'Arial Unicode MS' not found.\n",
      "findfont: Font family 'Arial Unicode MS' not found.\n",
      "findfont: Font family 'Arial Unicode MS' not found.\n",
      "findfont: Font family 'Arial Unicode MS' not found.\n",
      "findfont: Font family 'Arial Unicode MS' not found.\n",
      "findfont: Font family 'Arial Unicode MS' not found.\n",
      "findfont: Font family 'Arial Unicode MS' not found.\n",
      "findfont: Font family 'Arial Unicode MS' not found.\n",
      "findfont: Font family 'Arial Unicode MS' not found.\n",
      "findfont: Font family 'Arial Unicode MS' not found.\n",
      "findfont: Font family 'Arial Unicode MS' not found.\n",
      "findfont: Font family 'Arial Unicode MS' not found.\n",
      "findfont: Font family 'Arial Unicode MS' not found.\n",
      "findfont: Font family 'Arial Unicode MS' not found.\n",
      "findfont: Font family 'Arial Unicode MS' not found.\n",
      "findfont: Font family 'Arial Unicode MS' not found.\n",
      "findfont: Font family 'Arial Unicode MS' not found.\n",
      "findfont: Font family 'Arial Unicode MS' not found.\n",
      "findfont: Font family 'Arial Unicode MS' not found.\n",
      "findfont: Font family 'Arial Unicode MS' not found.\n",
      "findfont: Font family 'Arial Unicode MS' not found.\n",
      "findfont: Font family 'Arial Unicode MS' not found.\n",
      "findfont: Font family 'Arial Unicode MS' not found.\n",
      "findfont: Font family 'Arial Unicode MS' not found.\n",
      "findfont: Font family 'Arial Unicode MS' not found.\n",
      "findfont: Font family 'Arial Unicode MS' not found.\n",
      "findfont: Font family 'Arial Unicode MS' not found.\n",
      "findfont: Font family 'Arial Unicode MS' not found.\n",
      "findfont: Font family 'Arial Unicode MS' not found.\n",
      "findfont: Font family 'Arial Unicode MS' not found.\n",
      "findfont: Font family 'Arial Unicode MS' not found.\n",
      "findfont: Font family 'Arial Unicode MS' not found.\n",
      "findfont: Font family 'Arial Unicode MS' not found.\n",
      "findfont: Font family 'Arial Unicode MS' not found.\n",
      "findfont: Font family 'Arial Unicode MS' not found.\n"
     ]
    },
    {
     "data": {
      "image/png": "[encoded data removed]",
      "text/plain": [
       "<Figure size 600x400 with 1 Axes>"
      ]
     },
     "metadata": {},
     "output_type": "display_data"
    }
   ],
   "source": [
    "\n",
    "num_cols = ['release_year']\n",
    "\n",
    "for col in num_cols:\n",
    "    plt.figure(figsize=(6,4))\n",
    "    sns.histplot(df[col], kde=True, bins=20, color='skyblue')\n",
    "    plt.title(f\"Distribution of {col}\")\n",
    "    plt.show()\n",
    "\n",
    "\n"
   ]
  },
  {
   "cell_type": "markdown",
   "id": "5f8d5de6",
   "metadata": {},
   "source": [
    "8️⃣ Bivariate Analysis - Boxplots"
   ]
  },
  {
   "cell_type": "code",
   "execution_count": 11,
   "id": "c6a5d646",
   "metadata": {},
   "outputs": [
    {
     "name": "stderr",
     "output_type": "stream",
     "text": [
      "findfont: Font family 'Arial Unicode MS' not found.\n",
      "findfont: Font family 'Arial Unicode MS' not found.\n",
      "findfont: Font family 'Arial Unicode MS' not found.\n",
      "findfont: Font family 'Arial Unicode MS' not found.\n",
      "findfont: Font family 'Arial Unicode MS' not found.\n",
      "findfont: Font family 'Arial Unicode MS' not found.\n",
      "findfont: Font family 'Arial Unicode MS' not found.\n",
      "findfont: Font family 'Arial Unicode MS' not found.\n",
      "findfont: Font family 'Arial Unicode MS' not found.\n",
      "findfont: Font family 'Arial Unicode MS' not found.\n",
      "findfont: Font family 'Arial Unicode MS' not found.\n",
      "findfont: Font family 'Arial Unicode MS' not found.\n",
      "findfont: Font family 'Arial Unicode MS' not found.\n",
      "findfont: Font family 'Arial Unicode MS' not found.\n",
      "findfont: Font family 'Arial Unicode MS' not found.\n",
      "findfont: Font family 'Arial Unicode MS' not found.\n",
      "findfont: Font family 'Arial Unicode MS' not found.\n",
      "findfont: Font family 'Arial Unicode MS' not found.\n",
      "findfont: Font family 'Arial Unicode MS' not found.\n",
      "findfont: Font family 'Arial Unicode MS' not found.\n",
      "findfont: Font family 'Arial Unicode MS' not found.\n",
      "findfont: Font family 'Arial Unicode MS' not found.\n",
      "findfont: Font family 'Arial Unicode MS' not found.\n",
      "findfont: Font family 'Arial Unicode MS' not found.\n",
      "findfont: Font family 'Arial Unicode MS' not found.\n",
      "findfont: Font family 'Arial Unicode MS' not found.\n",
      "findfont: Font family 'Arial Unicode MS' not found.\n",
      "findfont: Font family 'Arial Unicode MS' not found.\n",
      "findfont: Font family 'Arial Unicode MS' not found.\n",
      "findfont: Font family 'Arial Unicode MS' not found.\n",
      "findfont: Font family 'Arial Unicode MS' not found.\n",
      "findfont: Font family 'Arial Unicode MS' not found.\n",
      "findfont: Font family 'Arial Unicode MS' not found.\n",
      "findfont: Font family 'Arial Unicode MS' not found.\n"
     ]
    },
    {
     "data": {
      "image/png": "[encoded data removed]",
      "text/plain": [
       "<Figure size 600x400 with 1 Axes>"
      ]
     },
     "metadata": {},
     "output_type": "display_data"
    }
   ],
   "source": [
    "\n",
    "plt.figure(figsize=(6,4))\n",
    "sns.boxplot(x='type', y='release_year', data=df, hue='type', palette='pastel', legend=False)\n",
    "plt.title(\"Release Year by Type\")\n",
    "plt.show()\n"
   ]
  },
  {
   "cell_type": "markdown",
   "id": "8e33482c",
   "metadata": {},
   "source": [
    "8️⃣ Correlation Heatmap"
   ]
  },
  {
   "cell_type": "code",
   "execution_count": 12,
   "id": "e193f173",
   "metadata": {},
   "outputs": [
    {
     "name": "stderr",
     "output_type": "stream",
     "text": [
      "findfont: Font family 'Arial Unicode MS' not found.\n",
      "findfont: Font family 'Arial Unicode MS' not found.\n",
      "findfont: Font family 'Arial Unicode MS' not found.\n",
      "findfont: Font family 'Arial Unicode MS' not found.\n",
      "findfont: Font family 'Arial Unicode MS' not found.\n",
      "findfont: Font family 'Arial Unicode MS' not found.\n",
      "findfont: Font family 'Arial Unicode MS' not found.\n",
      "findfont: Font family 'Arial Unicode MS' not found.\n",
      "findfont: Font family 'Arial Unicode MS' not found.\n",
      "findfont: Font family 'Arial Unicode MS' not found.\n",
      "findfont: Font family 'Arial Unicode MS' not found.\n",
      "findfont: Font family 'Arial Unicode MS' not found.\n",
      "findfont: Font family 'Arial Unicode MS' not found.\n",
      "findfont: Font family 'Arial Unicode MS' not found.\n",
      "findfont: Font family 'Arial Unicode MS' not found.\n",
      "findfont: Font family 'Arial Unicode MS' not found.\n",
      "findfont: Font family 'Arial Unicode MS' not found.\n",
      "findfont: Font family 'Arial Unicode MS' not found.\n",
      "findfont: Font family 'Arial Unicode MS' not found.\n",
      "findfont: Font family 'Arial Unicode MS' not found.\n",
      "findfont: Font family 'Arial Unicode MS' not found.\n",
      "findfont: Font family 'Arial Unicode MS' not found.\n",
      "findfont: Font family 'Arial Unicode MS' not found.\n",
      "findfont: Font family 'Arial Unicode MS' not found.\n",
      "findfont: Font family 'Arial Unicode MS' not found.\n",
      "findfont: Font family 'Arial Unicode MS' not found.\n",
      "findfont: Font family 'Arial Unicode MS' not found.\n",
      "findfont: Font family 'Arial Unicode MS' not found.\n",
      "findfont: Font family 'Arial Unicode MS' not found.\n",
      "findfont: Font family 'Arial Unicode MS' not found.\n",
      "findfont: Font family 'Arial Unicode MS' not found.\n",
      "findfont: Font family 'Arial Unicode MS' not found.\n",
      "findfont: Font family 'Arial Unicode MS' not found.\n",
      "findfont: Font family 'Arial Unicode MS' not found.\n",
      "findfont: Font family 'Arial Unicode MS' not found.\n",
      "findfont: Font family 'Arial Unicode MS' not found.\n",
      "findfont: Font family 'Arial Unicode MS' not found.\n",
      "findfont: Font family 'Arial Unicode MS' not found.\n",
      "findfont: Font family 'Arial Unicode MS' not found.\n",
      "findfont: Font family 'Arial Unicode MS' not found.\n",
      "findfont: Font family 'Arial Unicode MS' not found.\n",
      "findfont: Font family 'Arial Unicode MS' not found.\n",
      "findfont: Font family 'Arial Unicode MS' not found.\n",
      "findfont: Font family 'Arial Unicode MS' not found.\n",
      "findfont: Font family 'Arial Unicode MS' not found.\n",
      "findfont: Font family 'Arial Unicode MS' not found.\n",
      "findfont: Font family 'Arial Unicode MS' not found.\n",
      "findfont: Font family 'Arial Unicode MS' not found.\n",
      "findfont: Font family 'Arial Unicode MS' not found.\n",
      "findfont: Font family 'Arial Unicode MS' not found.\n",
      "findfont: Font family 'Arial Unicode MS' not found.\n",
      "findfont: Font family 'Arial Unicode MS' not found.\n"
     ]
    },
    {
     "data": {
      "image/png": "[encoded data removed]",
      "text/plain": [
       "<Figure size 800x600 with 2 Axes>"
      ]
     },
     "metadata": {},
     "output_type": "display_data"
    }
   ],
   "source": [
    "plt.figure(figsize=(8,6))\n",
    "corr = df.corr(numeric_only=True)\n",
    "sns.heatmap(corr, annot=True, cmap='coolwarm', fmt=\".2f\")\n",
    "plt.title(\"Correlation Heatmap\")\n",
    "plt.show()\n"
   ]
  },
  {
   "cell_type": "markdown",
   "id": "1502483b",
   "metadata": {},
   "source": [
    "9️⃣ Save Cleaned Dataset"
   ]
  },
  {
   "cell_type": "code",
   "execution_count": 10,
   "id": "470093a3",
   "metadata": {},
   "outputs": [
    {
     "name": "stdout",
     "output_type": "stream",
     "text": [
      "✅ Cleaned dataset saved successfully as 'Netflix_Titles_cleaned.csv'\n"
     ]
    }
   ],
   "source": [
    "df.to_csv(\"Netflix_Titles_cleaned.csv\", index=False)\n",
    "print(\"✅ Cleaned dataset saved successfully as 'Netflix_Titles_cleaned.csv'\")\n"
   ]
  },
  {
   "cell_type": "code",
   "execution_count": null,
   "id": "70bbc3ac",
   "metadata": {},
   "outputs": [],
   "source": []
  }
 ],
 "metadata": {
  "kernelspec": {
   "display_name": "base",
   "language": "python",
   "name": "python3"
  },
  "language_info": {
   "codemirror_mode": {
    "name": "ipython",
    "version": 3
   },
   "file_extension": ".py",
   "mimetype": "text/x-python",
   "name": "python",
   "nbconvert_exporter": "python",
   "pygments_lexer": "ipython3",
   "version": "3.13.5"
  }
 },
 "nbformat": 4,
 "nbformat_minor": 5
}
