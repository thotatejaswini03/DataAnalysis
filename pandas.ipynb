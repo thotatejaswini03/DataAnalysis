{
 "cells": [
  {
   "cell_type": "markdown",
   "id": "c1c85150",
   "metadata": {},
   "source": [
    "## 1. Why Learn Pandas?\n",
    "## What is it?\n",
    "Pandas is a Python library for data manipulation and analysis. It provides Series (1D) and DataFrames (2D tabular data)."
   ]
  },
  {
   "cell_type": "markdown",
   "id": "c7ac5c23",
   "metadata": {},
   "source": [
    "## Why we need it?\n",
    "1.Simplifies data cleaning, exploration, and manipulation.\n",
    "2.Handles large datasets efficiently.\n",
    "3.Built on top of NumPy for fast computations."
   ]
  },
  {
   "cell_type": "markdown",
   "id": "9b15708f",
   "metadata": {},
   "source": [
    "1.Data Analysis\n",
    "\n",
    "2.Machine Learning & Deep Learning\n",
    "\n",
    "3.Image Processing (OpenCV, PIL use NumPy arrays)\n",
    "\n",
    "5.Scientific Computing & Simulations"
   ]
  },
  {
   "cell_type": "markdown",
   "id": "279511c3",
   "metadata": {},
   "source": [
    "Where is it used?\n",
    "1.Data Analysis & Reporting\n",
    "2.Machine Learning (preprocessing datasets)\n",
    "3.Finance, Healthcare, Marketing data analysis\n",
    "4.CSV/Excel/SQL data handling\n",
    " \n",
    "### 2. Importing Pandas\n",
    "\"import pandas as pd\"\n",
    " "
   ]
  },
  {
   "cell_type": "code",
   "execution_count": 2,
   "id": "96ae4c3e",
   "metadata": {},
   "outputs": [],
   "source": [
    "import pandas as pd"
   ]
  },
  {
   "cell_type": "markdown",
   "id": "6b96f5ac",
   "metadata": {},
   "source": [
    "## 3.Series & DataFrames"
   ]
  },
  {
   "cell_type": "code",
   "execution_count": null,
   "id": "c99d82d2",
   "metadata": {},
   "outputs": [
    {
     "name": "stdout",
     "output_type": "stream",
     "text": [
      "Series:\n",
      " 0    10\n",
      "1    20\n",
      "2    30\n",
      "3    40\n",
      "dtype: int64\n",
      "\n",
      "DataFrame:\n",
      "       Name  Age\n",
      "0    Alice   25\n",
      "1      Bob   30\n",
      "2  Charlie   35\n"
     ]
    }
   ],
   "source": [
    "\n",
    "# Series \n",
    "s = pd.Series([10, 20, 30, 40]) \n",
    "print(\"Series:\\n\", s) \n",
    "# DataFrame from dict \n",
    "data = {'Name': ['Alice','Bob','Charlie'], 'Age':[25,30,35]} \n",
    "df = pd.DataFrame(data) \n",
    "print(\"\\nDataFrame:\\n\", df)"
   ]
  },
  {
   "cell_type": "markdown",
   "id": "8017442f",
   "metadata": {},
   "source": [
    "## 4. Reading & Exploring Data"
   ]
  },
  {
   "cell_type": "code",
   "execution_count": null,
   "id": "d3dc5c33",
   "metadata": {},
   "outputs": [
    {
     "name": "stdout",
     "output_type": "stream",
     "text": [
      "   PassengerId  Survived  Pclass  \\\n",
      "0          892         0       3   \n",
      "1          893         1       3   \n",
      "2          894         0       2   \n",
      "3          895         0       3   \n",
      "4          896         1       3   \n",
      "\n",
      "                                           Name     Sex   Age  SibSp  Parch  \\\n",
      "0                              Kelly, Mr. James    male  34.5      0      0   \n",
      "1              Wilkes, Mrs. James (Ellen Needs)  female  47.0      1      0   \n",
      "2                     Myles, Mr. Thomas Francis    male  62.0      0      0   \n",
      "3                              Wirz, Mr. Albert    male  27.0      0      0   \n",
      "4  Hirvonen, Mrs. Alexander (Helga E Lindqvist)  female  22.0      1      1   \n",
      "\n",
      "    Ticket     Fare Cabin Embarked  \n",
      "0   330911   7.8292   NaN        Q  \n",
      "1   363272   7.0000   NaN        S  \n",
      "2   240276   9.6875   NaN        Q  \n",
      "3   315154   8.6625   NaN        S  \n",
      "4  3101298  12.2875   NaN        S  \n",
      "     PassengerId  Survived  Pclass                          Name     Sex  \\\n",
      "413         1305         0       3            Spector, Mr. Woolf    male   \n",
      "414         1306         1       1  Oliva y Ocana, Dona. Fermina  female   \n",
      "415         1307         0       3  Saether, Mr. Simon Sivertsen    male   \n",
      "416         1308         0       3           Ware, Mr. Frederick    male   \n",
      "417         1309         0       3      Peter, Master. Michael J    male   \n",
      "\n",
      "      Age  SibSp  Parch              Ticket      Fare Cabin Embarked  \n",
      "413   NaN      0      0           A.5. 3236    8.0500   NaN        S  \n",
      "414  39.0      0      0            PC 17758  108.9000  C105        C  \n",
      "415  38.5      0      0  SOTON/O.Q. 3101262    7.2500   NaN        S  \n",
      "416   NaN      0      0              359309    8.0500   NaN        S  \n",
      "417   NaN      1      1                2668   22.3583   NaN        C  \n",
      "<class 'pandas.core.frame.DataFrame'>\n",
      "RangeIndex: 418 entries, 0 to 417\n",
      "Data columns (total 12 columns):\n",
      " #   Column       Non-Null Count  Dtype  \n",
      "---  ------       --------------  -----  \n",
      " 0   PassengerId  418 non-null    int64  \n",
      " 1   Survived     418 non-null    int64  \n",
      " 2   Pclass       418 non-null    int64  \n",
      " 3   Name         418 non-null    object \n",
      " 4   Sex          418 non-null    object \n",
      " 5   Age          332 non-null    float64\n",
      " 6   SibSp        418 non-null    int64  \n",
      " 7   Parch        418 non-null    int64  \n",
      " 8   Ticket       418 non-null    object \n",
      " 9   Fare         417 non-null    float64\n",
      " 10  Cabin        91 non-null     object \n",
      " 11  Embarked     418 non-null    object \n",
      "dtypes: float64(2), int64(5), object(5)\n",
      "memory usage: 39.3+ KB\n",
      "None\n",
      "       PassengerId    Survived      Pclass         Age       SibSp  \\\n",
      "count   418.000000  418.000000  418.000000  332.000000  418.000000   \n",
      "mean   1100.500000    0.363636    2.265550   30.272590    0.447368   \n",
      "std     120.810458    0.481622    0.841838   14.181209    0.896760   \n",
      "min     892.000000    0.000000    1.000000    0.170000    0.000000   \n",
      "25%     996.250000    0.000000    1.000000   21.000000    0.000000   \n",
      "50%    1100.500000    0.000000    3.000000   27.000000    0.000000   \n",
      "75%    1204.750000    1.000000    3.000000   39.000000    1.000000   \n",
      "max    1309.000000    1.000000    3.000000   76.000000    8.000000   \n",
      "\n",
      "            Parch        Fare  \n",
      "count  418.000000  417.000000  \n",
      "mean     0.392344   35.627188  \n",
      "std      0.981429   55.907576  \n",
      "min      0.000000    0.000000  \n",
      "25%      0.000000    7.895800  \n",
      "50%      0.000000   14.454200  \n",
      "75%      0.000000   31.500000  \n",
      "max      9.000000  512.329200  \n",
      "(418, 12)\n"
     ]
    }
   ],
   "source": [
    "\n",
    "# Read CSV (replace with your file path)\n",
    "df = pd.read_csv(\"tested.csv\")\n",
    " \n",
    "# Example DataFrame\n",
    "#data = {'Name':['Alice','Bob','Charlie'],'Age':[25,30,35],'Sex':['F','M','M']}\n",
    "#df = pd.DataFrame(data)\n",
    " \n",
    "# Explore\n",
    "print(df.head())\n",
    "print(df.tail())\n",
    "print(df.info())\n",
    "print(df.describe())\n",
    "print(df.shape)"
   ]
  },
  {
   "cell_type": "markdown",
   "id": "20a53609",
   "metadata": {},
   "source": [
    "## 5. Selecting Columns & Rows"
   ]
  },
  {
   "cell_type": "code",
   "execution_count": null,
   "id": "bfd20772",
   "metadata": {},
   "outputs": [
    {
     "name": "stdout",
     "output_type": "stream",
     "text": [
      "0                                  Kelly, Mr. James\n",
      "1                  Wilkes, Mrs. James (Ellen Needs)\n",
      "2                         Myles, Mr. Thomas Francis\n",
      "3                                  Wirz, Mr. Albert\n",
      "4      Hirvonen, Mrs. Alexander (Helga E Lindqvist)\n",
      "                           ...                     \n",
      "413                              Spector, Mr. Woolf\n",
      "414                    Oliva y Ocana, Dona. Fermina\n",
      "415                    Saether, Mr. Simon Sivertsen\n",
      "416                             Ware, Mr. Frederick\n",
      "417                        Peter, Master. Michael J\n",
      "Name: Name, Length: 418, dtype: object\n",
      "                                             Name   Age\n",
      "0                                Kelly, Mr. James  34.5\n",
      "1                Wilkes, Mrs. James (Ellen Needs)  47.0\n",
      "2                       Myles, Mr. Thomas Francis  62.0\n",
      "3                                Wirz, Mr. Albert  27.0\n",
      "4    Hirvonen, Mrs. Alexander (Helga E Lindqvist)  22.0\n",
      "..                                            ...   ...\n",
      "413                            Spector, Mr. Woolf   NaN\n",
      "414                  Oliva y Ocana, Dona. Fermina  39.0\n",
      "415                  Saether, Mr. Simon Sivertsen  38.5\n",
      "416                           Ware, Mr. Frederick   NaN\n",
      "417                      Peter, Master. Michael J   NaN\n",
      "\n",
      "[418 rows x 2 columns]\n",
      "PassengerId                 892\n",
      "Survived                      0\n",
      "Pclass                        3\n",
      "Name           Kelly, Mr. James\n",
      "Sex                        male\n",
      "Age                        34.5\n",
      "SibSp                         0\n",
      "Parch                         0\n",
      "Ticket                   330911\n",
      "Fare                     7.8292\n",
      "Cabin                       NaN\n",
      "Embarked                      Q\n",
      "Name: 0, dtype: object\n",
      "PassengerId                 892\n",
      "Survived                      0\n",
      "Pclass                        3\n",
      "Name           Kelly, Mr. James\n",
      "Sex                        male\n",
      "Age                        34.5\n",
      "SibSp                         0\n",
      "Parch                         0\n",
      "Ticket                   330911\n",
      "Fare                     7.8292\n",
      "Cabin                       NaN\n",
      "Embarked                      Q\n",
      "Name: 0, dtype: object\n",
      "                               Name     Sex\n",
      "0                  Kelly, Mr. James    male\n",
      "1  Wilkes, Mrs. James (Ellen Needs)  female\n"
     ]
    }
   ],
   "source": [
    "\n",
    "# Select column\n",
    "print(df['Name'])\n",
    " \n",
    "# Select multiple columns\n",
    "print(df[['Name','Age']])\n",
    " \n",
    "# Select row by index\n",
    "print(df.iloc[0])       # first row\n",
    "print(df.loc[0])        # first row using label\n",
    " \n",
    "# Select subset of rows and columns\n",
    "print(df.loc[0:1, ['Name','Sex']])"
   ]
  },
  {
   "cell_type": "markdown",
   "id": "5fc5ef7c",
   "metadata": {},
   "source": [
    "## 6. Filtering & Sorting"
   ]
  },
  {
   "cell_type": "code",
   "execution_count": null,
   "id": "f62475b5",
   "metadata": {},
   "outputs": [
    {
     "name": "stdout",
     "output_type": "stream",
     "text": [
      "     PassengerId  Survived  Pclass  \\\n",
      "0            892         0       3   \n",
      "1            893         1       3   \n",
      "2            894         0       2   \n",
      "6            898         1       3   \n",
      "11           903         0       1   \n",
      "..           ...       ...     ...   \n",
      "404         1296         0       1   \n",
      "407         1299         0       1   \n",
      "411         1303         1       1   \n",
      "414         1306         1       1   \n",
      "415         1307         0       3   \n",
      "\n",
      "                                                Name     Sex   Age  SibSp  \\\n",
      "0                                   Kelly, Mr. James    male  34.5      0   \n",
      "1                   Wilkes, Mrs. James (Ellen Needs)  female  47.0      1   \n",
      "2                          Myles, Mr. Thomas Francis    male  62.0      0   \n",
      "6                               Connolly, Miss. Kate  female  30.0      0   \n",
      "11                        Jones, Mr. Charles Cresson    male  46.0      0   \n",
      "..                                               ...     ...   ...    ...   \n",
      "404                     Frauenthal, Mr. Isaac Gerald    male  43.0      1   \n",
      "407                       Widener, Mr. George Dunton    male  50.0      1   \n",
      "411  Minahan, Mrs. William Edward (Lillian E Thorpe)  female  37.0      1   \n",
      "414                     Oliva y Ocana, Dona. Fermina  female  39.0      0   \n",
      "415                     Saether, Mr. Simon Sivertsen    male  38.5      0   \n",
      "\n",
      "     Parch              Ticket      Fare Cabin Embarked  \n",
      "0        0              330911    7.8292   NaN        Q  \n",
      "1        0              363272    7.0000   NaN        S  \n",
      "2        0              240276    9.6875   NaN        Q  \n",
      "6        0              330972    7.6292   NaN        Q  \n",
      "11       0                 694   26.0000   NaN        S  \n",
      "..     ...                 ...       ...   ...      ...  \n",
      "404      0               17765   27.7208   D40        C  \n",
      "407      1              113503  211.5000   C80        C  \n",
      "411      0               19928   90.0000   C78        Q  \n",
      "414      0            PC 17758  108.9000  C105        C  \n",
      "415      0  SOTON/O.Q. 3101262    7.2500   NaN        S  \n",
      "\n",
      "[158 rows x 12 columns]\n",
      "     PassengerId  Survived  Pclass  \\\n",
      "96           988         1       1   \n",
      "81           973         0       1   \n",
      "236         1128         0       1   \n",
      "179         1071         1       1   \n",
      "305         1197         1       1   \n",
      "..           ...       ...     ...   \n",
      "408         1300         1       3   \n",
      "410         1302         1       3   \n",
      "413         1305         0       3   \n",
      "416         1308         0       3   \n",
      "417         1309         0       3   \n",
      "\n",
      "                                                  Name     Sex   Age  SibSp  \\\n",
      "96   Cavendish, Mrs. Tyrell William (Julia Florence...  female  76.0      1   \n",
      "81                                  Straus, Mr. Isidor    male  67.0      1   \n",
      "236                           Warren, Mr. Frank Manley    male  64.0      1   \n",
      "179  Compton, Mrs. Alexander Taylor (Mary Eliza Ing...  female  64.0      0   \n",
      "305  Crosby, Mrs. Edward Gifford (Catherine Elizabe...  female  64.0      1   \n",
      "..                                                 ...     ...   ...    ...   \n",
      "408                    Riordan, Miss. Johanna Hannah\"\"  female   NaN      0   \n",
      "410                             Naughton, Miss. Hannah  female   NaN      0   \n",
      "413                                 Spector, Mr. Woolf    male   NaN      0   \n",
      "416                                Ware, Mr. Frederick    male   NaN      0   \n",
      "417                           Peter, Master. Michael J    male   NaN      1   \n",
      "\n",
      "     Parch     Ticket      Fare    Cabin Embarked  \n",
      "96       0      19877   78.8500      C46        S  \n",
      "81       0   PC 17483  221.7792  C55 C57        S  \n",
      "236      0     110813   75.2500      D37        C  \n",
      "179      2   PC 17756   83.1583      E45        C  \n",
      "305      1     112901   26.5500      B26        S  \n",
      "..     ...        ...       ...      ...      ...  \n",
      "408      0     334915    7.7208      NaN        Q  \n",
      "410      0     365237    7.7500      NaN        Q  \n",
      "413      0  A.5. 3236    8.0500      NaN        S  \n",
      "416      0     359309    8.0500      NaN        S  \n",
      "417      1       2668   22.3583      NaN        C  \n",
      "\n",
      "[418 rows x 12 columns]\n"
     ]
    }
   ],
   "source": [
    "\n",
    "# Filter rows\n",
    "print(df[df['Age'] > 28])\n",
    " \n",
    "# Sort by Age\n",
    "print(df.sort_values('Age', ascending=False))"
   ]
  },
  {
   "cell_type": "markdown",
   "id": "58675152",
   "metadata": {},
   "source": [
    "## 7. Adding & Removing Columns"
   ]
  },
  {
   "cell_type": "code",
   "execution_count": 21,
   "id": "37111502",
   "metadata": {},
   "outputs": [
    {
     "name": "stdout",
     "output_type": "stream",
     "text": [
      "      Name        Age  Age_in_5yrs\n",
      "0    Alice  25.000000    30.000000\n",
      "1      Bob  33.333333    38.333333\n",
      "2  Charlie  35.000000    40.000000\n",
      "3    David  40.000000    45.000000\n",
      "      Name        Age\n",
      "0    Alice  25.000000\n",
      "1      Bob  33.333333\n",
      "2  Charlie  35.000000\n",
      "3    David  40.000000\n"
     ]
    }
   ],
   "source": [
    "\n",
    "# Add new column\n",
    "df['Age_in_5yrs'] = df['Age'] + 5\n",
    "print(df)\n",
    " \n",
    "# Drop column\n",
    "df = df.drop('Age_in_5yrs', axis=1)\n",
    "print(df)\n",
    " \n",
    " "
   ]
  },
  {
   "cell_type": "markdown",
   "id": "6f61a06d",
   "metadata": {},
   "source": [
    "### 8. GroupBy & Aggregation"
   ]
  },
  {
   "cell_type": "code",
   "execution_count": 19,
   "id": "a005c3c3",
   "metadata": {},
   "outputs": [
    {
     "name": "stdout",
     "output_type": "stream",
     "text": [
      "         Score\n",
      "Name          \n",
      "Alice     82.5\n",
      "Bob       80.0\n",
      "Charlie   95.0\n"
     ]
    }
   ],
   "source": [
    "\n",
    "data = {'Name':['Alice','Bob','Charlie','Alice','Bob'],\n",
    "        'Score':[85,90,95,80,70]}\n",
    "df = pd.DataFrame(data)\n",
    " \n",
    "# Group by Name and calculate mean score\n",
    "grouped = df.groupby('Name').mean()\n",
    "print(grouped)"
   ]
  },
  {
   "cell_type": "markdown",
   "id": "8a4818bc",
   "metadata": {},
   "source": [
    "### 9. Handling Missing Data"
   ]
  },
  {
   "cell_type": "code",
   "execution_count": 20,
   "id": "f5982b32",
   "metadata": {},
   "outputs": [
    {
     "name": "stdout",
     "output_type": "stream",
     "text": [
      "      Name        Age\n",
      "0    Alice  25.000000\n",
      "1      Bob  33.333333\n",
      "2  Charlie  35.000000\n",
      "3    David  40.000000\n"
     ]
    }
   ],
   "source": [
    "\n",
    "data = {'Name':['Alice','Bob','Charlie','David'],\n",
    "        'Age':[25, None, 35, 40]}\n",
    "df = pd.DataFrame(data)\n",
    " \n",
    "# Fill missing value\n",
    "df['Age'] = df['Age'].fillna(df['Age'].mean())\n",
    "print(df)\n",
    " \n",
    "# Drop rows with missing values\n",
    "# df = df.dropna()\n",
    " "
   ]
  },
  {
   "cell_type": "code",
   "execution_count": null,
   "id": "7976eb44",
   "metadata": {},
   "outputs": [],
   "source": []
  }
 ],
 "metadata": {
  "kernelspec": {
   "display_name": "base",
   "language": "python",
   "name": "python3"
  },
  "language_info": {
   "codemirror_mode": {
    "name": "ipython",
    "version": 3
   },
   "file_extension": ".py",
   "mimetype": "text/x-python",
   "name": "python",
   "nbconvert_exporter": "python",
   "pygments_lexer": "ipython3",
   "version": "3.13.5"
  }
 },
 "nbformat": 4,
 "nbformat_minor": 5
}
